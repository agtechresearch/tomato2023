{
 "cells": [
  {
   "cell_type": "code",
   "execution_count": 1,
   "metadata": {},
   "outputs": [],
   "source": [
    "import pandas as pd\n",
    "\n",
    "df = pd.read_csv(\"data/merged.csv\")"
   ]
  },
  {
   "cell_type": "markdown",
   "metadata": {},
   "source": [
    "- state: 환경정보\n",
    "- action: SUB_MHRLS_OPRT_YN(보조기기작동여부)\n",
    "    - 0 또는 1"
   ]
  },
  {
   "cell_type": "code",
   "execution_count": 2,
   "metadata": {},
   "outputs": [],
   "source": [
    "environment = {\n",
    "        \"PFBS_NTRO_CBDX_CTRN\": \"관측지점실내이산화탄소농도\",\n",
    "        \"ABSLT_HMDT\": \"절대습도\",\n",
    "        \"INNER_HMDT_1\": \"내부습도_1\",\n",
    "        \"INNER_HMDT_2\": \"내부습도_2\",\n",
    "        \"AVE_INNER_HMDT_1_2\": \"평균내부습도_1_2\",\n",
    "        \"WNDRC\": \"풍향\",\n",
    "        \"WDSP\": \"풍속\",\n",
    "        \"STRTN_WATER\": \"포화수분\",\n",
    "        \"EXTN_SRQT\": \"외부일사량\",\n",
    "        \"WATER_LACK_VL\": \"수분부족량\",\n",
    "        \"EXTN_ACCMLT_QOFLG\": \"외부누적광량\",\n",
    "        \"PRCPT_YN\": \"강수여부\",\n",
    "        \"DWP_TPRT\": \"이슬점온도\",\n",
    "        \"EXTN_TPRT\": \"외부온도\",\n",
    "        \"INNER_TPRT_1\": \"내부온도_1\",\n",
    "        \"INNER_TPRT_2\": \"내부온도_2\",\n",
    "        \"AVE_INNER_TPRT_1_2\": \"평균내부온도_1_2\",\n",
    "}"
   ]
  },
  {
   "cell_type": "code",
   "execution_count": 3,
   "metadata": {},
   "outputs": [
    {
     "data": {
      "text/plain": [
       "SUB_MHRLS_OPRT_YN\n",
       "0    28940\n",
       "1    19444\n",
       "Name: count, dtype: int64"
      ]
     },
     "execution_count": 3,
     "metadata": {},
     "output_type": "execute_result"
    }
   ],
   "source": [
    "df[\"SUB_MHRLS_OPRT_YN\"] = df[[\"SUB_MHRLS_OPRT_YN_1\",\"SUB_MHRLS_OPRT_YN_2\", \"SUB_MHRLS_OPRT_YN_3\"]].apply(\n",
    "    lambda x: 0 if 0 in x.values else 1, axis=1)\n",
    "df[\"SUB_MHRLS_OPRT_YN\"].value_counts()"
   ]
  },
  {
   "cell_type": "code",
   "execution_count": 5,
   "metadata": {},
   "outputs": [
    {
     "name": "stdout",
     "output_type": "stream",
     "text": [
      "관측지점실내이산화탄소농도: \t Cov is -10.7342 \t Beta is -44.6559\n",
      "절대습도: \t Cov is 0.5911 \t Beta is 2.4592\n",
      "내부습도_1: \t Cov is -0.5594 \t Beta is -2.3271\n",
      "내부습도_2: \t Cov is -0.2534 \t Beta is -1.0540\n",
      "평균내부습도_1_2: \t Cov is -0.4064 \t Beta is -1.6905\n",
      "풍향: \t Cov is -1.3323 \t Beta is -5.5427\n",
      "풍속: \t Cov is 0.0189 \t Beta is 0.0787\n",
      "포화수분: \t Cov is 0.9000 \t Beta is 3.7442\n",
      "외부일사량: \t Cov is 21.0940 \t Beta is 87.7546\n",
      "수분부족량: \t Cov is 0.3086 \t Beta is 1.2840\n",
      "외부누적광량: \t Cov is 65.9143 \t Beta is 274.2143\n",
      "강수여부: \t Cov is 0.0142 \t Beta is 0.0593\n",
      "이슬점온도: \t Cov is 0.6378 \t Beta is 2.6535\n",
      "외부온도: \t Cov is 2.0061 \t Beta is 8.3456\n",
      "내부온도_1: \t Cov is 0.7847 \t Beta is 3.2645\n",
      "내부온도_2: \t Cov is 0.7182 \t Beta is 2.9877\n",
      "평균내부온도_1_2: \t Cov is 0.7514 \t Beta is 3.1261\n"
     ]
    }
   ],
   "source": [
    "var = df[\"SUB_MHRLS_OPRT_YN\"].var()\n",
    "for k in environment.keys():\n",
    "    covariance = df[\"SUB_MHRLS_OPRT_YN\"].cov(df[k])\n",
    "    print(f\"{environment[k]}: \\t Cov is {covariance:.4f} \\t Beta is {covariance/var:.4f}\")"
   ]
  },
  {
   "cell_type": "code",
   "execution_count": 6,
   "metadata": {},
   "outputs": [],
   "source": [
    "from util.process import MyDataset, Modeling\n",
    "from util.model import LSTM\n",
    "\n",
    "x_cols = environment.keys()\n",
    "y_cols = [\"SUB_MHRLS_OPRT_YN\"]\n",
    "data = MyDataset(df, x_cols, y_cols)\n",
    "train_loader, test_loader = data.preprocessing()"
   ]
  },
  {
   "cell_type": "code",
   "execution_count": 7,
   "metadata": {},
   "outputs": [
    {
     "name": "stdout",
     "output_type": "stream",
     "text": [
      "Using device: cpu\n"
     ]
    }
   ],
   "source": [
    "model = Modeling(LSTM, data, criterion=\"crossEntropy\")"
   ]
  },
  {
   "cell_type": "code",
   "execution_count": 8,
   "metadata": {},
   "outputs": [
    {
     "name": "stdout",
     "output_type": "stream",
     "text": [
      "Epoch 1/10, Validation Loss: 0.0000\n"
     ]
    }
   ],
   "source": [
    "model.train(1, train_loader, test_loader)"
   ]
  },
  {
   "cell_type": "code",
   "execution_count": 9,
   "metadata": {},
   "outputs": [
    {
     "name": "stdout",
     "output_type": "stream",
     "text": [
      "explained_variance:  -0.1579\n",
      "median_absolute_error:  0.9936\n",
      "r2:  -103.6455\n",
      "MAE:  0.988\n",
      "MSE:  0.9867\n",
      "RMSE:  0.9933\n"
     ]
    },
    {
     "data": {
      "text/plain": [
       "(array([[1.],\n",
       "        [1.],\n",
       "        [1.],\n",
       "        ...,\n",
       "        [1.],\n",
       "        [1.],\n",
       "        [1.]], dtype=float32),\n",
       " array([0.00642157, 0.00642157, 0.00642157, ..., 0.00642157, 0.00642157,\n",
       "        0.00642157]))"
      ]
     },
     "execution_count": 9,
     "metadata": {},
     "output_type": "execute_result"
    }
   ],
   "source": [
    "model.eval(test_loader, data.y_test)"
   ]
  },
  {
   "cell_type": "code",
   "execution_count": null,
   "metadata": {},
   "outputs": [],
   "source": []
  },
  {
   "cell_type": "code",
   "execution_count": null,
   "metadata": {},
   "outputs": [],
   "source": []
  },
  {
   "cell_type": "code",
   "execution_count": null,
   "metadata": {},
   "outputs": [],
   "source": []
  },
  {
   "cell_type": "code",
   "execution_count": null,
   "metadata": {},
   "outputs": [],
   "source": [
    "class TomatoEnv:\n",
    "    def __init__(self, seq_len:int, feature_num:int, action_num:int):\n",
    "        self.state_space = [[i for i in range(feature_num)] for _ in range(seq_len)]\n",
    "        self.action_space = [i for i in range(action_num)]\n",
    "        self.current_state = None\n",
    "    \n",
    "    def reset(self, initial_state):\n",
    "        self.current_state = initial_state\n",
    "        return self.current_state\n",
    "    \n",
    "    def step(self, action):\n",
    "        if action == 1:\n",
    "            self.current_state = min(self.current_state + 1, len(self.state_space) - 1)\n",
    "        elif action == 0:\n",
    "            self.current_state = max(self.current_state - 1, 0)\n",
    "        # 보상 및 종료 여부 결정\n",
    "        reward = 1 if self.current_state == self.grid_size - 1 else 0\n",
    "        done = self.current_state == self.grid_size - 1\n",
    "        \n",
    "        return self.current_state, reward, done"
   ]
  }
 ],
 "metadata": {
  "kernelspec": {
   "display_name": "tomato2023",
   "language": "python",
   "name": "python3"
  },
  "language_info": {
   "codemirror_mode": {
    "name": "ipython",
    "version": 3
   },
   "file_extension": ".py",
   "mimetype": "text/x-python",
   "name": "python",
   "nbconvert_exporter": "python",
   "pygments_lexer": "ipython3",
   "version": "3.10.5"
  }
 },
 "nbformat": 4,
 "nbformat_minor": 2
}
