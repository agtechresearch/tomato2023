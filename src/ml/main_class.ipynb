{
 "cells": [
  {
   "cell_type": "code",
   "execution_count": 2,
   "metadata": {},
   "outputs": [],
   "source": [
    "import numpy as np\n",
    "import pandas as pd\n",
    "\n",
    "df = pd.read_csv(\"data/merged.csv\") "
   ]
  },
  {
   "cell_type": "code",
   "execution_count": 3,
   "metadata": {},
   "outputs": [],
   "source": [
    "environment = {\n",
    "        \"PFBS_NTRO_CBDX_CTRN\": \"관측지점실내이산화탄소농도\",\n",
    "        \"ABSLT_HMDT\": \"절대습도\",\n",
    "        \"INNER_HMDT_1\": \"내부습도_1\",\n",
    "        \"INNER_HMDT_2\": \"내부습도_2\",\n",
    "        \"AVE_INNER_HMDT_1_2\": \"평균내부습도_1_2\",\n",
    "        \"WNDRC\": \"풍향\",\n",
    "        \"WDSP\": \"풍속\",\n",
    "        \"STRTN_WATER\": \"포화수분\",\n",
    "        \"EXTN_SRQT\": \"외부일사량\",\n",
    "        \"WATER_LACK_VL\": \"수분부족량\",\n",
    "        \"EXTN_ACCMLT_QOFLG\": \"외부누적광량\",\n",
    "        \"PRCPT_YN\": \"강수여부\",\n",
    "        \"DWP_TPRT\": \"이슬점온도\",\n",
    "        \"EXTN_TPRT\": \"외부온도\",\n",
    "        \"INNER_TPRT_1\": \"내부온도_1\",\n",
    "        \"INNER_TPRT_2\": \"내부온도_2\",\n",
    "        \"AVE_INNER_TPRT_1_2\": \"평균내부온도_1_2\",\n",
    "}\n",
    "\n",
    "df[\"SUB_MHRLS_OPRT_YN\"] = df[[\"SUB_MHRLS_OPRT_YN_1\",\"SUB_MHRLS_OPRT_YN_2\", \"SUB_MHRLS_OPRT_YN_3\"]].apply(\n",
    "    lambda x: 0 if 0 in x.values else 1, axis=1)"
   ]
  },
  {
   "cell_type": "code",
   "execution_count": 4,
   "metadata": {},
   "outputs": [
    {
     "name": "stdout",
     "output_type": "stream",
     "text": [
      "SUB_MHRLS_OPRT_YN\n",
      "0    28940\n",
      "1    19444\n",
      "Name: count, dtype: int64\n",
      "관측지점실내이산화탄소농도, PFBS_NTRO_CBDX_CTRN: \t\t Cov is -10.7342 \t Beta is -44.6559\n",
      "절대습도, ABSLT_HMDT: \t\t Cov is 0.5911 \t Beta is 2.4592\n",
      "내부습도_1, INNER_HMDT_1: \t\t Cov is -0.5594 \t Beta is -2.3271\n",
      "내부습도_2, INNER_HMDT_2: \t\t Cov is -0.2534 \t Beta is -1.0540\n",
      "평균내부습도_1_2, AVE_INNER_HMDT_1_2: \t\t Cov is -0.4064 \t Beta is -1.6905\n",
      "풍향, WNDRC: \t\t Cov is -1.3323 \t Beta is -5.5427\n",
      "풍속, WDSP: \t\t Cov is 0.0189 \t Beta is 0.0787\n",
      "포화수분, STRTN_WATER: \t\t Cov is 0.9000 \t Beta is 3.7442\n",
      "외부일사량, EXTN_SRQT: \t\t Cov is 21.0940 \t Beta is 87.7546\n",
      "수분부족량, WATER_LACK_VL: \t\t Cov is 0.3086 \t Beta is 1.2840\n",
      "외부누적광량, EXTN_ACCMLT_QOFLG: \t\t Cov is 65.9143 \t Beta is 274.2143\n",
      "강수여부, PRCPT_YN: \t\t Cov is 0.0142 \t Beta is 0.0593\n",
      "이슬점온도, DWP_TPRT: \t\t Cov is 0.6378 \t Beta is 2.6535\n",
      "외부온도, EXTN_TPRT: \t\t Cov is 2.0061 \t Beta is 8.3456\n",
      "내부온도_1, INNER_TPRT_1: \t\t Cov is 0.7847 \t Beta is 3.2645\n",
      "내부온도_2, INNER_TPRT_2: \t\t Cov is 0.7182 \t Beta is 2.9877\n",
      "평균내부온도_1_2, AVE_INNER_TPRT_1_2: \t\t Cov is 0.7514 \t Beta is 3.1261\n"
     ]
    }
   ],
   "source": [
    "print(df[\"SUB_MHRLS_OPRT_YN\"].value_counts())\n",
    "var = df[\"SUB_MHRLS_OPRT_YN\"].var()\n",
    "for k in environment.keys():\n",
    "    covariance = df[\"SUB_MHRLS_OPRT_YN\"].cov(df[k])\n",
    "    print(f\"{environment[k]}, {k}: \\t\\t Cov is {covariance:.4f} \\t Beta is {covariance/var:.4f}\")"
   ]
  },
  {
   "cell_type": "code",
   "execution_count": 19,
   "metadata": {},
   "outputs": [],
   "source": [
    "from sklearn.model_selection import train_test_split\n",
    "\n",
    "x_cols = environment.keys()\n",
    "y_cols = [\"SUB_MHRLS_OPRT_YN\"]\n",
    "\n",
    "X = df[x_cols].values\n",
    "y = df[y_cols].values.ravel()\n",
    "X_train, X_test, y_train, y_test = train_test_split(X, y, test_size=0.2, random_state=42)"
   ]
  },
  {
   "cell_type": "markdown",
   "metadata": {},
   "source": [
    "using scikit-learn"
   ]
  },
  {
   "cell_type": "code",
   "execution_count": 6,
   "metadata": {},
   "outputs": [
    {
     "name": "stdout",
     "output_type": "stream",
     "text": [
      "SVC Accuracy: train 0.9960730617201023 test 0.7142709517412421\n",
      "KNeighborsClassifier Accuracy: train 0.9523858733562405 test 0.8923220006200269\n"
     ]
    }
   ],
   "source": [
    "from sklearn.svm import SVC\n",
    "from sklearn.neighbors import KNeighborsClassifier\n",
    "from sklearn.metrics import accuracy_score\n",
    "\n",
    "# SVM 모델 정의 및 학습\n",
    "model = SVC(kernel='rbf', C=1, gamma='auto')\n",
    "model.fit(X_train, y_train)\n",
    "\n",
    "# 테스트 및 평가\n",
    "y_pred = model.predict(X_train)\n",
    "train_accuracy = accuracy_score(y_train, y_pred)\n",
    "y_pred = model.predict(X_test)\n",
    "test_accuracy = accuracy_score(y_test, y_pred)\n",
    "print(f'SVC Accuracy: train {train_accuracy} test {test_accuracy}')\n",
    "\n",
    "# KNN 모델 정의 및 학습\n",
    "model = KNeighborsClassifier(n_neighbors=2)\n",
    "model.fit(X_train, y_train)\n",
    "\n",
    "# 테스트 및 평가\n",
    "y_pred = model.predict(X_train)\n",
    "train_accuracy = accuracy_score(y_train, y_pred)\n",
    "y_pred = model.predict(X_test)\n",
    "test_accuracy = accuracy_score(y_test, y_pred)\n",
    "print(f'KNeighborsClassifier Accuracy: train {train_accuracy} test {test_accuracy}')\n",
    "\n"
   ]
  },
  {
   "cell_type": "markdown",
   "metadata": {},
   "source": [
    "LSTM: 성능이 저 둘의 중간일뿐."
   ]
  },
  {
   "cell_type": "code",
   "execution_count": 7,
   "metadata": {},
   "outputs": [],
   "source": [
    "import torch\n",
    "import torch.nn as nn\n",
    "import torch.optim as optim\n",
    "from torch.utils.data import DataLoader, TensorDataset\n",
    "\n",
    "# LSTM 모델 정의\n",
    "class LSTMModel(nn.Module):\n",
    "    def __init__(self, input_size, hidden_size, num_layers, output_size):\n",
    "        super(LSTMModel, self).__init__()\n",
    "        self.lstm = nn.LSTM(input_size, hidden_size, num_layers, batch_first=True)\n",
    "        self.fc = nn.Linear(hidden_size, output_size)\n",
    "    \n",
    "    def forward(self, x):\n",
    "        out, _ = self.lstm(x)\n",
    "        out = self.fc(out[:, -1, :])  # LSTM의 마지막 시퀀스만 사용\n",
    "        return out"
   ]
  },
  {
   "cell_type": "code",
   "execution_count": 8,
   "metadata": {},
   "outputs": [],
   "source": [
    "# 시계열 데이터를 시퀀스로 변환\n",
    "seq_length = 1  # 시퀀스 길이\n",
    "X_sequences = []\n",
    "for i in range(len(X) - seq_length + 1):\n",
    "    X_sequences.append(X[i:i+seq_length])\n",
    "\n",
    "X_sequences = np.array(X_sequences)\n",
    "y = y[seq_length - 1:]  # 레이블을 시퀀스에 맞게 조정\n",
    "\n",
    "\n",
    "# 데이터를 PyTorch Tensor로 변환\n",
    "X_tensor = torch.tensor(X_sequences, dtype=torch.float32)\n",
    "y_tensor = torch.tensor(y, dtype=torch.float32)\n",
    "\n",
    "# 데이터셋 및 데이터로더 생성\n",
    "dataset = TensorDataset(X_tensor, y_tensor)\n",
    "train_loader = DataLoader(dataset, batch_size=32, shuffle=True)"
   ]
  },
  {
   "cell_type": "code",
   "execution_count": 12,
   "metadata": {},
   "outputs": [
    {
     "name": "stdout",
     "output_type": "stream",
     "text": [
      "Epoch [11/100], Loss: 0.3298\n",
      "Epoch [21/100], Loss: 0.7945\n",
      "Epoch [31/100], Loss: 0.5782\n",
      "Epoch [41/100], Loss: 0.1897\n",
      "Epoch [51/100], Loss: 0.3416\n",
      "Epoch [61/100], Loss: 0.2379\n",
      "Epoch [71/100], Loss: 0.4609\n",
      "Epoch [81/100], Loss: 0.2952\n",
      "Epoch [91/100], Loss: 0.2494\n",
      "Epoch [101/100], Loss: 0.1468\n"
     ]
    }
   ],
   "source": [
    "# 모델, 손실 함수 및 옵티마이저 설정\n",
    "input_size = X_sequences.shape[2]  # 입력 크기: 특성 수\n",
    "hidden_size = 200\n",
    "num_layers = 1\n",
    "output_size = 1  # 출력 크기: 이진 분류이므로 1\n",
    "model = LSTMModel(input_size, hidden_size, num_layers, output_size)\n",
    "criterion = nn.BCEWithLogitsLoss()  # 이진 분류용 손실 함수\n",
    "optimizer = optim.Adam(model.parameters(), lr=0.0001)\n",
    "\n",
    "# 학습\n",
    "num_epochs = 100\n",
    "for epoch in range(1, num_epochs+1):\n",
    "    for inputs, targets in train_loader:\n",
    "        optimizer.zero_grad()\n",
    "        outputs = model(inputs)\n",
    "        loss = criterion(outputs, targets.unsqueeze(1))  # 레이블을 2D로 변환하여 손실 함수에 전달\n",
    "        loss.backward()\n",
    "        optimizer.step()\n",
    "    if epoch % 10 == 0:\n",
    "        print(f'Epoch [{epoch+1}/{num_epochs}], Loss: {loss.item():.4f}')\n"
   ]
  },
  {
   "cell_type": "code",
   "execution_count": 13,
   "metadata": {},
   "outputs": [
    {
     "name": "stdout",
     "output_type": "stream",
     "text": [
      "Test Accuracy: 0.8768\n"
     ]
    }
   ],
   "source": [
    "# 평가\n",
    "from sklearn.metrics import accuracy_score, classification_report\n",
    "with torch.no_grad():\n",
    "    outputs = model(X_tensor)\n",
    "    predicted = (torch.sigmoid(outputs) > 0.5).float()  # 확률을 기준으로 0 또는 1로 변환\n",
    "    accuracy = accuracy_score(y_tensor, predicted)\n",
    "    print(f'Train Accuracy: {accuracy:.4f}')"
   ]
  },
  {
   "cell_type": "markdown",
   "metadata": {},
   "source": [
    "LSTM with Longer sequence: 1->10 "
   ]
  },
  {
   "cell_type": "code",
   "execution_count": 20,
   "metadata": {},
   "outputs": [],
   "source": [
    "# 시계열 데이터를 시퀀스로 변환\n",
    "seq_length = 10  # 시퀀스 길이\n",
    "X_sequences = []\n",
    "for i in range(len(X) - seq_length + 1):\n",
    "    X_sequences.append(X[i:i+seq_length])\n",
    "\n",
    "X_sequences = np.array(X_sequences)\n",
    "y = y[seq_length - 1:]  # 레이블을 시퀀스에 맞게 조정\n",
    "\n",
    "\n",
    "# 데이터를 PyTorch Tensor로 변환\n",
    "X_tensor = torch.tensor(X_sequences, dtype=torch.float32)\n",
    "y_tensor = torch.tensor(y, dtype=torch.float32)\n",
    "\n",
    "# 데이터셋 및 데이터로더 생성\n",
    "dataset = TensorDataset(X_tensor, y_tensor)\n",
    "train_loader = DataLoader(dataset, batch_size=32, shuffle=True)"
   ]
  },
  {
   "cell_type": "code",
   "execution_count": 22,
   "metadata": {},
   "outputs": [
    {
     "name": "stdout",
     "output_type": "stream",
     "text": [
      "Epoch [11/100], Loss: 0.3782\n",
      "Epoch [21/100], Loss: 0.6070\n",
      "Epoch [31/100], Loss: 0.2058\n",
      "Epoch [41/100], Loss: 0.2446\n",
      "Epoch [51/100], Loss: 0.2536\n",
      "Epoch [61/100], Loss: 0.3810\n",
      "Epoch [71/100], Loss: 0.2049\n",
      "Epoch [81/100], Loss: 0.4170\n",
      "Epoch [91/100], Loss: 0.1060\n",
      "Epoch [101/100], Loss: 0.2612\n"
     ]
    }
   ],
   "source": [
    "# 모델, 손실 함수 및 옵티마이저 설정\n",
    "input_size = X_sequences.shape[2]  # 입력 크기: 특성 수\n",
    "hidden_size = 200\n",
    "num_layers = 1\n",
    "output_size = 1  # 출력 크기: 이진 분류이므로 1\n",
    "model = LSTMModel(input_size, hidden_size, num_layers, output_size)\n",
    "criterion = nn.BCEWithLogitsLoss()  # 이진 분류용 손실 함수\n",
    "optimizer = optim.Adam(model.parameters(), lr=0.0001)\n",
    "\n",
    "# 학습\n",
    "num_epochs = 100\n",
    "for epoch in range(1, num_epochs+1):\n",
    "    for inputs, targets in train_loader:\n",
    "        optimizer.zero_grad()\n",
    "        outputs = model(inputs)\n",
    "        loss = criterion(outputs, targets.unsqueeze(1))  # 레이블을 2D로 변환하여 손실 함수에 전달\n",
    "        loss.backward()\n",
    "        optimizer.step()\n",
    "    if epoch % 10 == 0:\n",
    "        print(f'Epoch [{epoch+1}/{num_epochs}], Loss: {loss.item():.4f}')\n"
   ]
  },
  {
   "cell_type": "code",
   "execution_count": 23,
   "metadata": {},
   "outputs": [
    {
     "name": "stdout",
     "output_type": "stream",
     "text": [
      "Train Accuracy: 0.9122\n"
     ]
    }
   ],
   "source": [
    "# 평가\n",
    "from sklearn.metrics import accuracy_score, classification_report\n",
    "with torch.no_grad():\n",
    "    outputs = model(X_tensor)\n",
    "    predicted = (torch.sigmoid(outputs) > 0.5).float()  # 확률을 기준으로 0 또는 1로 변환\n",
    "    accuracy = accuracy_score(y_tensor, predicted)\n",
    "    print(f'Train Accuracy: {accuracy:.4f}')"
   ]
  },
  {
   "cell_type": "code",
   "execution_count": null,
   "metadata": {},
   "outputs": [],
   "source": []
  }
 ],
 "metadata": {
  "kernelspec": {
   "display_name": "tomato2023",
   "language": "python",
   "name": "python3"
  },
  "language_info": {
   "codemirror_mode": {
    "name": "ipython",
    "version": 3
   },
   "file_extension": ".py",
   "mimetype": "text/x-python",
   "name": "python",
   "nbconvert_exporter": "python",
   "pygments_lexer": "ipython3",
   "version": "3.8.10"
  }
 },
 "nbformat": 4,
 "nbformat_minor": 2
}
