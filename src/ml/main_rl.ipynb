{
 "cells": [
  {
   "cell_type": "code",
   "execution_count": 6,
   "metadata": {},
   "outputs": [
    {
     "data": {
      "text/plain": [
       "Index(['FRT_LNGTH', 'FWRCT_HGHT', 'BLMNG_CLUSTER', 'FRST_TREE_CNT', 'FRT_WT',\n",
       "       'FRT_WDTH', 'GRTH_LNGTH', 'YIELD_CNT', 'YIELD_CLUSTER', 'LAST_FWRCT_NO',\n",
       "       'LEAF_LNGTH', 'LEAF_CNT', 'LEAF_WDTH', 'PLT_LNGTH', 'STEM_THNS',\n",
       "       'MSRM_DT', 'PFBS_NTRO_CBDX_CTRN', 'EXTN_TPRT', 'DWP_TPRT', 'WNDRC',\n",
       "       'ABSLT_HMDT', 'WDSP', 'STRTN_WATER', 'EXTN_SRQT', 'WATER_LACK_VL',\n",
       "       'EXTN_ACCMLT_QOFLG', 'SPL_TPRT_1', 'SPL_TPRT_2', 'HTNG_TPRT_1',\n",
       "       'VNTILAT_TPRT_5', 'VNTILAT_TPRT_4', 'VNTILAT_TPRT_3', 'VNTILAT_TPRT_2',\n",
       "       'VNTILAT_TPRT_1', 'TRWVLV_OPDR_RATE_2', 'TRWVLV_OPDR_RATE_1',\n",
       "       'HRZNT_SCRN_OPDR_RATE_2', 'SKLT_OPDR_RATE_1_LEFT',\n",
       "       'HRZNT_SCRN_OPDR_RATE_1', 'SKLT_OPDR_RATE_1_RIGHT', 'INNER_TPRT_1',\n",
       "       'INNER_TPRT_2', 'AVE_INNER_TPRT_1_2', 'AVE_INNER_HMDT_1_2',\n",
       "       'INNER_HMDT_1', 'INNER_HMDT_2', 'CBDX_STNG_VL', 'WTSPL_QTY',\n",
       "       'NTSLT_SPL_PH_LVL', 'NTSLT_SPL_PH_LVL_STNG_VL', 'NTSLT_SPL_ELCDT',\n",
       "       'NTSLT_SPL_ELCDT_STNG_VL', 'RTTN_PUMP_OPRT_YN_2', 'RTTN_PUMP_OPRT_YN_1',\n",
       "       'DYTM_NIGHT_CD', 'SPRYN_DEVICE', 'SUB_MHRLS_OPRT_YN_1',\n",
       "       'SUB_MHRLS_OPRT_YN_2', 'SUB_MHRLS_OPRT_YN_3', 'SUB_MHRLS_OPMD_2',\n",
       "       'PRCPT_YN', 'FMGEQ_OPMD', 'CBDX_GNRT_OPMD', 'TRWVLV_OPMD_1',\n",
       "       'SKLT_OPMD_1_LEFT', 'FMGEQ_OPRT_YN', 'CBDX_GNRT_OPRT_YN'],\n",
       "      dtype='object')"
      ]
     },
     "execution_count": 6,
     "metadata": {},
     "output_type": "execute_result"
    }
   ],
   "source": [
    "import numpy as np\n",
    "import pandas as pd\n",
    "\n",
    "df = pd.read_csv(\"data/merged_drop.csv\") \n",
    "df.columns"
   ]
  },
  {
   "cell_type": "code",
   "execution_count": 4,
   "metadata": {},
   "outputs": [
    {
     "ename": "KeyError",
     "evalue": "'CLR_OPRT_YN_1'",
     "output_type": "error",
     "traceback": [
      "\u001b[0;31m---------------------------------------------------------------------------\u001b[0m",
      "\u001b[0;31mKeyError\u001b[0m                                  Traceback (most recent call last)",
      "File \u001b[0;32m~/문서/tomato2023/lib/python3.8/site-packages/pandas/core/indexes/base.py:3653\u001b[0m, in \u001b[0;36mIndex.get_loc\u001b[0;34m(self, key)\u001b[0m\n\u001b[1;32m   3652\u001b[0m \u001b[38;5;28;01mtry\u001b[39;00m:\n\u001b[0;32m-> 3653\u001b[0m     \u001b[38;5;28;01mreturn\u001b[39;00m \u001b[38;5;28;43mself\u001b[39;49m\u001b[38;5;241;43m.\u001b[39;49m\u001b[43m_engine\u001b[49m\u001b[38;5;241;43m.\u001b[39;49m\u001b[43mget_loc\u001b[49m\u001b[43m(\u001b[49m\u001b[43mcasted_key\u001b[49m\u001b[43m)\u001b[49m\n\u001b[1;32m   3654\u001b[0m \u001b[38;5;28;01mexcept\u001b[39;00m \u001b[38;5;167;01mKeyError\u001b[39;00m \u001b[38;5;28;01mas\u001b[39;00m err:\n",
      "File \u001b[0;32m~/문서/tomato2023/lib/python3.8/site-packages/pandas/_libs/index.pyx:147\u001b[0m, in \u001b[0;36mpandas._libs.index.IndexEngine.get_loc\u001b[0;34m()\u001b[0m\n",
      "File \u001b[0;32m~/문서/tomato2023/lib/python3.8/site-packages/pandas/_libs/index.pyx:176\u001b[0m, in \u001b[0;36mpandas._libs.index.IndexEngine.get_loc\u001b[0;34m()\u001b[0m\n",
      "File \u001b[0;32mpandas/_libs/hashtable_class_helper.pxi:7080\u001b[0m, in \u001b[0;36mpandas._libs.hashtable.PyObjectHashTable.get_item\u001b[0;34m()\u001b[0m\n",
      "File \u001b[0;32mpandas/_libs/hashtable_class_helper.pxi:7088\u001b[0m, in \u001b[0;36mpandas._libs.hashtable.PyObjectHashTable.get_item\u001b[0;34m()\u001b[0m\n",
      "\u001b[0;31mKeyError\u001b[0m: 'CLR_OPRT_YN_1'",
      "\nThe above exception was the direct cause of the following exception:\n",
      "\u001b[0;31mKeyError\u001b[0m                                  Traceback (most recent call last)",
      "Cell \u001b[0;32mIn[4], line 1\u001b[0m\n\u001b[0;32m----> 1\u001b[0m \u001b[43mdf\u001b[49m\u001b[43m[\u001b[49m\u001b[38;5;124;43m\"\u001b[39;49m\u001b[38;5;124;43mCLR_OPRT_YN_1\u001b[39;49m\u001b[38;5;124;43m\"\u001b[39;49m\u001b[43m]\u001b[49m\u001b[38;5;241m.\u001b[39mvalue_counts()\n",
      "File \u001b[0;32m~/문서/tomato2023/lib/python3.8/site-packages/pandas/core/frame.py:3761\u001b[0m, in \u001b[0;36mDataFrame.__getitem__\u001b[0;34m(self, key)\u001b[0m\n\u001b[1;32m   3759\u001b[0m \u001b[38;5;28;01mif\u001b[39;00m \u001b[38;5;28mself\u001b[39m\u001b[38;5;241m.\u001b[39mcolumns\u001b[38;5;241m.\u001b[39mnlevels \u001b[38;5;241m>\u001b[39m \u001b[38;5;241m1\u001b[39m:\n\u001b[1;32m   3760\u001b[0m     \u001b[38;5;28;01mreturn\u001b[39;00m \u001b[38;5;28mself\u001b[39m\u001b[38;5;241m.\u001b[39m_getitem_multilevel(key)\n\u001b[0;32m-> 3761\u001b[0m indexer \u001b[38;5;241m=\u001b[39m \u001b[38;5;28;43mself\u001b[39;49m\u001b[38;5;241;43m.\u001b[39;49m\u001b[43mcolumns\u001b[49m\u001b[38;5;241;43m.\u001b[39;49m\u001b[43mget_loc\u001b[49m\u001b[43m(\u001b[49m\u001b[43mkey\u001b[49m\u001b[43m)\u001b[49m\n\u001b[1;32m   3762\u001b[0m \u001b[38;5;28;01mif\u001b[39;00m is_integer(indexer):\n\u001b[1;32m   3763\u001b[0m     indexer \u001b[38;5;241m=\u001b[39m [indexer]\n",
      "File \u001b[0;32m~/문서/tomato2023/lib/python3.8/site-packages/pandas/core/indexes/base.py:3655\u001b[0m, in \u001b[0;36mIndex.get_loc\u001b[0;34m(self, key)\u001b[0m\n\u001b[1;32m   3653\u001b[0m     \u001b[38;5;28;01mreturn\u001b[39;00m \u001b[38;5;28mself\u001b[39m\u001b[38;5;241m.\u001b[39m_engine\u001b[38;5;241m.\u001b[39mget_loc(casted_key)\n\u001b[1;32m   3654\u001b[0m \u001b[38;5;28;01mexcept\u001b[39;00m \u001b[38;5;167;01mKeyError\u001b[39;00m \u001b[38;5;28;01mas\u001b[39;00m err:\n\u001b[0;32m-> 3655\u001b[0m     \u001b[38;5;28;01mraise\u001b[39;00m \u001b[38;5;167;01mKeyError\u001b[39;00m(key) \u001b[38;5;28;01mfrom\u001b[39;00m \u001b[38;5;21;01merr\u001b[39;00m\n\u001b[1;32m   3656\u001b[0m \u001b[38;5;28;01mexcept\u001b[39;00m \u001b[38;5;167;01mTypeError\u001b[39;00m:\n\u001b[1;32m   3657\u001b[0m     \u001b[38;5;66;03m# If we have a listlike key, _check_indexing_error will raise\u001b[39;00m\n\u001b[1;32m   3658\u001b[0m     \u001b[38;5;66;03m#  InvalidIndexError. Otherwise we fall through and re-raise\u001b[39;00m\n\u001b[1;32m   3659\u001b[0m     \u001b[38;5;66;03m#  the TypeError.\u001b[39;00m\n\u001b[1;32m   3660\u001b[0m     \u001b[38;5;28mself\u001b[39m\u001b[38;5;241m.\u001b[39m_check_indexing_error(key)\n",
      "\u001b[0;31mKeyError\u001b[0m: 'CLR_OPRT_YN_1'"
     ]
    }
   ],
   "source": [
    "df[\"CLR_OPRT_YN_1\"].value_counts()"
   ]
  },
  {
   "cell_type": "code",
   "execution_count": null,
   "metadata": {},
   "outputs": [],
   "source": [
    "environment = {\n",
    "        \"PFBS_NTRO_CBDX_CTRN\": \"관측지점실내이산화탄소농도\",\n",
    "        \"ABSLT_HMDT\": \"절대습도\",\n",
    "        \"INNER_HMDT_1\": \"내부습도_1\",\n",
    "        \"INNER_HMDT_2\": \"내부습도_2\",\n",
    "        \"AVE_INNER_HMDT_1_2\": \"평균내부습도_1_2\",\n",
    "        \"WNDRC\": \"풍향\",\n",
    "        \"WDSP\": \"풍속\",\n",
    "        \"STRTN_WATER\": \"포화수분\",\n",
    "        \"EXTN_SRQT\": \"외부일사량\",\n",
    "        \"WATER_LACK_VL\": \"수분부족량\",\n",
    "        \"EXTN_ACCMLT_QOFLG\": \"외부누적광량\",\n",
    "        \"PRCPT_YN\": \"강수여부\",\n",
    "        \"DWP_TPRT\": \"이슬점온도\",\n",
    "        \"EXTN_TPRT\": \"외부온도\",\n",
    "        \"INNER_TPRT_1\": \"내부온도_1\",\n",
    "        \"INNER_TPRT_2\": \"내부온도_2\",\n",
    "        \"AVE_INNER_TPRT_1_2\": \"평균내부온도_1_2\",\n",
    "        \"NTSLT_SPL_PH_LVL\": \"양액공급산도레벨\",\n",
    "        \"NTSLT_SPL_ELCDT\": \"양액공급전기전도도\"\n",
    "}\n",
    "\n",
    "df[\"INNER_HMDT_1\"] = (df[\"INNER_HMDT_1\"] + df[\"INNER_HMDT_2\"]) / 2\n",
    "df[\"INNER_TPRT_1\"] = (df[\"INNER_TPRT_1\"] + df[\"INNER_TPRT_2\"]) / 2\n",
    "df[\"SUB_MHRLS_OPRT_YN\"] = df[[\"SUB_MHRLS_OPRT_YN_1\",\"SUB_MHRLS_OPRT_YN_2\", \"SUB_MHRLS_OPRT_YN_3\"]].apply(\n",
    "    lambda x: 0 if 0 in x.values else 1, axis=1)"
   ]
  },
  {
   "cell_type": "code",
   "execution_count": null,
   "metadata": {},
   "outputs": [],
   "source": []
  }
 ],
 "metadata": {
  "kernelspec": {
   "display_name": "tomato2023",
   "language": "python",
   "name": "python3"
  },
  "language_info": {
   "codemirror_mode": {
    "name": "ipython",
    "version": 3
   },
   "file_extension": ".py",
   "mimetype": "text/x-python",
   "name": "python",
   "nbconvert_exporter": "python",
   "pygments_lexer": "ipython3",
   "version": "3.8.10"
  }
 },
 "nbformat": 4,
 "nbformat_minor": 2
}
