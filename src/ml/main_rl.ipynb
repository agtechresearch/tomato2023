{
 "cells": [
  {
   "cell_type": "code",
   "execution_count": null,
   "metadata": {},
   "outputs": [],
   "source": [
    "import numpy as np\n",
    "import pandas as pd\n",
    "\n",
    "df = pd.read_csv(\"data/merged.csv\") "
   ]
  },
  {
   "cell_type": "code",
   "execution_count": null,
   "metadata": {},
   "outputs": [],
   "source": [
    "environment = {\n",
    "        \"PFBS_NTRO_CBDX_CTRN\": \"관측지점실내이산화탄소농도\",\n",
    "        \"ABSLT_HMDT\": \"절대습도\",\n",
    "        \"INNER_HMDT_1\": \"내부습도_1\",\n",
    "        \"INNER_HMDT_2\": \"내부습도_2\",\n",
    "        \"AVE_INNER_HMDT_1_2\": \"평균내부습도_1_2\",\n",
    "        \"WNDRC\": \"풍향\",\n",
    "        \"WDSP\": \"풍속\",\n",
    "        \"STRTN_WATER\": \"포화수분\",\n",
    "        \"EXTN_SRQT\": \"외부일사량\",\n",
    "        \"WATER_LACK_VL\": \"수분부족량\",\n",
    "        \"EXTN_ACCMLT_QOFLG\": \"외부누적광량\",\n",
    "        \"PRCPT_YN\": \"강수여부\",\n",
    "        \"DWP_TPRT\": \"이슬점온도\",\n",
    "        \"EXTN_TPRT\": \"외부온도\",\n",
    "        \"INNER_TPRT_1\": \"내부온도_1\",\n",
    "        \"INNER_TPRT_2\": \"내부온도_2\",\n",
    "        \"AVE_INNER_TPRT_1_2\": \"평균내부온도_1_2\",\n",
    "}\n",
    "\n",
    "df[\"SUB_MHRLS_OPRT_YN\"] = df[[\"SUB_MHRLS_OPRT_YN_1\",\"SUB_MHRLS_OPRT_YN_2\", \"SUB_MHRLS_OPRT_YN_3\"]].apply(\n",
    "    lambda x: 0 if 0 in x.values else 1, axis=1)"
   ]
  }
 ],
 "metadata": {
  "language_info": {
   "name": "python"
  }
 },
 "nbformat": 4,
 "nbformat_minor": 2
}
